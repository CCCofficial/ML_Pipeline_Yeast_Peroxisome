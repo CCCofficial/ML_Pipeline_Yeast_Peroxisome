{
 "cells": [
  {
   "cell_type": "markdown",
   "metadata": {},
   "source": [
    "# Data Analysis-- Run in silico screening and get predictions\n",
    "* Created on 02 05 2023 by Jie Shi\n",
    "* this code is used for prediction of the capacity fold change from all possible combinations of 25 genes\n",
    "* __ensemble: average from the 10 CNN+LSTM models__"
   ]
  },
  {
   "cell_type": "code",
   "execution_count": 1,
   "metadata": {},
   "outputs": [],
   "source": [
    "import tensorflow as tf \n",
    "import numpy as np\n",
    "import pandas as pd\n",
    "import time\n",
    "from tensorflow import keras"
   ]
  },
  {
   "cell_type": "code",
   "execution_count": 2,
   "metadata": {},
   "outputs": [],
   "source": [
    "import pickle # for saving ML models"
   ]
  },
  {
   "cell_type": "code",
   "execution_count": 3,
   "metadata": {},
   "outputs": [],
   "source": [
    "from itertools import product # for making comprehensive (0,1) list\n",
    "from itertools import combinations # for making comprehensive (0,1) list"
   ]
  },
  {
   "cell_type": "code",
   "execution_count": 4,
   "metadata": {},
   "outputs": [],
   "source": [
    "data_head=['Pex1', 'Pex2', 'Pex3', 'Pex4', 'Pex5', 'Pex6', 'Pex8', 'Pex10', \n",
    "           'Pex11', 'Pex12', 'Pex13', 'Pex14', 'Pex15', 'Pex17', 'Pex19', 'Pex22', \n",
    "           'Pex28', 'Pex29', 'Pex30', 'Pex31', 'Pex32', 'Pex34', 'Sei1', 'Rtn1', \n",
    "           'Vps1', 'Capacity change (Fold increase compared to WT control)']"
   ]
  },
  {
   "cell_type": "code",
   "execution_count": 5,
   "metadata": {},
   "outputs": [],
   "source": [
    "gene_num = 25"
   ]
  },
  {
   "cell_type": "code",
   "execution_count": 6,
   "metadata": {},
   "outputs": [],
   "source": [
    "## create all possible combinations of genes\n",
    "screen_data = pd.DataFrame( list(product([0, 1], repeat=gene_num)),columns = data_head[:-1])"
   ]
  },
  {
   "cell_type": "markdown",
   "metadata": {},
   "source": [
    "## CNN+LSTM"
   ]
  },
  {
   "cell_type": "code",
   "execution_count": 7,
   "metadata": {},
   "outputs": [
    {
     "data": {
      "text/plain": [
       "(33554432, 25)"
      ]
     },
     "execution_count": 7,
     "metadata": {},
     "output_type": "execute_result"
    }
   ],
   "source": [
    "screen_data.shape"
   ]
  },
  {
   "cell_type": "code",
   "execution_count": 8,
   "metadata": {},
   "outputs": [
    {
     "name": "stdout",
     "output_type": "stream",
     "text": [
      "(33554432, 25)\n"
     ]
    }
   ],
   "source": [
    "num_classes=1\n",
    "\n",
    "#screen_data = final_screen.drop(data_head[-1],axis=1)\n",
    "\n",
    "## reshape into (n, gene_num, 1) for deep learning model\n",
    "#screen_data_channel = screen_data.iloc[:,:-1].to_numpy().reshape(screen_data.shape[0],gene_num,1)\n",
    "\n",
    "print(screen_data.shape)\n"
   ]
  },
  {
   "cell_type": "code",
   "execution_count": null,
   "metadata": {},
   "outputs": [],
   "source": [
    "## cnn+lst predictions\n",
    "\n",
    "for i in range(10):\n",
    "    start = time.time()\n",
    "    print(i)\n",
    "    y_pred_screen = pd.DataFrame()\n",
    "\n",
    "# load the saved modoel\n",
    "    model_i = keras.models.load_model(f'save_ML/CNN+LSTM_model_05152023_tuning_{i+1}.h5')\n",
    "    y_pred_screen[str(i)] = np.expm1(model_i.predict(screen_data).squeeze())\n",
    "    end = time.time()\n",
    "    print(f\"calculate take: {(start-end)/60} minutes\")\n",
    "    # save individual predictions for later usage\n",
    "    y_pred_screen.to_csv(f\"data_screen/screen_prediction_05152023_nodup_cnn_lstm_{i+1}.csv\",index=False)\n",
    "    #screen_data = final_screen.drop(data_head[-1],axis=1)"
   ]
  },
  {
   "cell_type": "code",
   "execution_count": 11,
   "metadata": {},
   "outputs": [
    {
     "name": "stdout",
     "output_type": "stream",
     "text": [
      "(33554432, 10)\n"
     ]
    }
   ],
   "source": [
    "# load the saved predictions\n",
    "y_pred_screen = pd.DataFrame()\n",
    "\n",
    "for i in range(10):\n",
    "    y_pred_i = pd.read_csv(f\"data_screen/screen_prediction_05152023_nodup_cnn_lstm_{i+1}.csv\")\n",
    "    y_pred_screen[str(i)] = y_pred_i#.drop(columns=y_pred_i.columns[0])\n",
    "    \n",
    "print(y_pred_screen.shape)"
   ]
  },
  {
   "cell_type": "code",
   "execution_count": 12,
   "metadata": {},
   "outputs": [
    {
     "data": {
      "text/plain": [
       "(33554432,)"
      ]
     },
     "execution_count": 12,
     "metadata": {},
     "output_type": "execute_result"
    }
   ],
   "source": [
    "# calculate ensemble average\n",
    "y_pred_mean = y_pred_screen.mean(axis=1)\n",
    "y_pred_mean.shape"
   ]
  },
  {
   "cell_type": "code",
   "execution_count": 13,
   "metadata": {},
   "outputs": [],
   "source": [
    "final_screen = screen_data\n",
    "final_screen[data_head[-1]]=y_pred_mean\n",
    "final_screen=final_screen.sort_values(data_head[-1], ascending=False)\n",
    "## save the top 5000\n",
    "final_screen.head(5000).to_csv(\"data_screen/screen_prediction_05152023_nodup_cnn_lstm_ensemble.csv\")"
   ]
  },
  {
   "cell_type": "code",
   "execution_count": null,
   "metadata": {},
   "outputs": [],
   "source": []
  },
  {
   "cell_type": "code",
   "execution_count": null,
   "metadata": {},
   "outputs": [],
   "source": []
  }
 ],
 "metadata": {
  "kernelspec": {
   "display_name": "Python 3 (ipykernel)",
   "language": "python",
   "name": "python3"
  },
  "language_info": {
   "codemirror_mode": {
    "name": "ipython",
    "version": 3
   },
   "file_extension": ".py",
   "mimetype": "text/x-python",
   "name": "python",
   "nbconvert_exporter": "python",
   "pygments_lexer": "ipython3",
   "version": "3.8.13"
  }
 },
 "nbformat": 4,
 "nbformat_minor": 4
}
